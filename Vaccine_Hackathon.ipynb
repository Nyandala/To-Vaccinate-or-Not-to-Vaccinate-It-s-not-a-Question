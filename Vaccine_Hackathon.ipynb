{
  "nbformat": 4,
  "nbformat_minor": 0,
  "metadata": {
    "colab": {
      "name": "Vaccine_Hackathon.ipynb",
      "provenance": [],
      "collapsed_sections": [],
      "toc_visible": true,
      "mount_file_id": "1WgtsJM9OPxeigC14AGtr-Tb3Md6m14qr",
      "authorship_tag": "ABX9TyNNiI+HDeP7eSBxWUZDgpQY",
      "include_colab_link": true
    },
    "kernelspec": {
      "name": "python3",
      "display_name": "Python 3"
    }
  },
  "cells": [
    {
      "cell_type": "markdown",
      "metadata": {
        "id": "view-in-github",
        "colab_type": "text"
      },
      "source": [
        "<a href=\"https://colab.research.google.com/github/Nyandala/To-Vaccinate-or-Not-to-Vaccinate-It-s-not-a-Question/blob/main/Vaccine_Hackathon.ipynb\" target=\"_parent\"><img src=\"https://colab.research.google.com/assets/colab-badge.svg\" alt=\"Open In Colab\"/></a>"
      ]
    },
    {
      "cell_type": "markdown",
      "metadata": {
        "id": "Av0LYBEer-MW"
      },
      "source": [
        "# Load packages"
      ]
    },
    {
      "cell_type": "code",
      "metadata": {
        "id": "Fp32Dt5LpkVq",
        "colab": {
          "base_uri": "https://localhost:8080/"
        },
        "outputId": "1580e7f4-ef86-4a63-db1b-bbb75da8fcd5"
      },
      "source": [
        "import pandas as pd\n",
        "import numpy as np\n",
        "\n",
        "import string\n",
        "import re\n",
        "import spacy\n",
        "import nltk\n",
        "nltk.download('stopwords')\n",
        "from nltk.corpus import stopwords\n",
        "from nltk.stem import WordNetLemmatizer\n",
        "nltk.download('wordnet')\n",
        "from sklearn.feature_extraction import text\n",
        "from sklearn.feature_extraction.text import CountVectorizer, TfidfVectorizer\n",
        "from nltk.tokenize import TreebankWordTokenizer\n",
        "\n",
        "from sklearn.model_selection import train_test_split\n",
        "from sklearn import metrics\n",
        "from sklearn.metrics import accuracy_score,recall_score,precision_score,f1_score\n",
        "\n",
        "from sklearn.model_selection import GridSearchCV\n",
        "from sklearn.linear_model import LogisticRegression,SGDClassifier"
      ],
      "execution_count": 1,
      "outputs": [
        {
          "output_type": "stream",
          "text": [
            "[nltk_data] Downloading package stopwords to /root/nltk_data...\n",
            "[nltk_data]   Unzipping corpora/stopwords.zip.\n",
            "[nltk_data] Downloading package wordnet to /root/nltk_data...\n",
            "[nltk_data]   Unzipping corpora/wordnet.zip.\n"
          ],
          "name": "stdout"
        }
      ]
    },
    {
      "cell_type": "markdown",
      "metadata": {
        "id": "zGzESyPSsEUt"
      },
      "source": [
        "# Load data"
      ]
    },
    {
      "cell_type": "code",
      "metadata": {
        "id": "KMvepw8ZsFsI"
      },
      "source": [
        "train = pd.read_csv('/content/drive/MyDrive/Data_Vaccinate or not/Train (2).csv')\n",
        "test = pd.read_csv('/content/drive/MyDrive/Data_Vaccinate or not/Test (2).csv')"
      ],
      "execution_count": 2,
      "outputs": []
    },
    {
      "cell_type": "markdown",
      "metadata": {
        "id": "U6ClONVcs2aK"
      },
      "source": [
        "# Data preprocessing"
      ]
    },
    {
      "cell_type": "code",
      "metadata": {
        "id": "lBRCmsVKrEVf",
        "colab": {
          "base_uri": "https://localhost:8080/",
          "height": 378
        },
        "outputId": "ac3689c1-e950-42fd-9c00-9ab5086dc219"
      },
      "source": [
        "display(train.head())\n",
        "display(test.head())"
      ],
      "execution_count": 3,
      "outputs": [
        {
          "output_type": "display_data",
          "data": {
            "text/html": [
              "<div>\n",
              "<style scoped>\n",
              "    .dataframe tbody tr th:only-of-type {\n",
              "        vertical-align: middle;\n",
              "    }\n",
              "\n",
              "    .dataframe tbody tr th {\n",
              "        vertical-align: top;\n",
              "    }\n",
              "\n",
              "    .dataframe thead th {\n",
              "        text-align: right;\n",
              "    }\n",
              "</style>\n",
              "<table border=\"1\" class=\"dataframe\">\n",
              "  <thead>\n",
              "    <tr style=\"text-align: right;\">\n",
              "      <th></th>\n",
              "      <th>tweet_id</th>\n",
              "      <th>safe_text</th>\n",
              "      <th>label</th>\n",
              "      <th>agreement</th>\n",
              "    </tr>\n",
              "  </thead>\n",
              "  <tbody>\n",
              "    <tr>\n",
              "      <th>0</th>\n",
              "      <td>CL1KWCMY</td>\n",
              "      <td>Me &amp;amp; The Big Homie meanboy3000 #MEANBOY #M...</td>\n",
              "      <td>0.0</td>\n",
              "      <td>1.0</td>\n",
              "    </tr>\n",
              "    <tr>\n",
              "      <th>1</th>\n",
              "      <td>E3303EME</td>\n",
              "      <td>I'm 100% thinking of devoting my career to pro...</td>\n",
              "      <td>1.0</td>\n",
              "      <td>1.0</td>\n",
              "    </tr>\n",
              "    <tr>\n",
              "      <th>2</th>\n",
              "      <td>M4IVFSMS</td>\n",
              "      <td>#whatcausesautism VACCINES, DO NOT VACCINATE Y...</td>\n",
              "      <td>-1.0</td>\n",
              "      <td>1.0</td>\n",
              "    </tr>\n",
              "    <tr>\n",
              "      <th>3</th>\n",
              "      <td>1DR6ROZ4</td>\n",
              "      <td>I mean if they immunize my kid with something ...</td>\n",
              "      <td>-1.0</td>\n",
              "      <td>1.0</td>\n",
              "    </tr>\n",
              "    <tr>\n",
              "      <th>4</th>\n",
              "      <td>J77ENIIE</td>\n",
              "      <td>Thanks to &lt;user&gt; Catch me performing at La Nui...</td>\n",
              "      <td>0.0</td>\n",
              "      <td>1.0</td>\n",
              "    </tr>\n",
              "  </tbody>\n",
              "</table>\n",
              "</div>"
            ],
            "text/plain": [
              "   tweet_id  ... agreement\n",
              "0  CL1KWCMY  ...       1.0\n",
              "1  E3303EME  ...       1.0\n",
              "2  M4IVFSMS  ...       1.0\n",
              "3  1DR6ROZ4  ...       1.0\n",
              "4  J77ENIIE  ...       1.0\n",
              "\n",
              "[5 rows x 4 columns]"
            ]
          },
          "metadata": {
            "tags": []
          }
        },
        {
          "output_type": "display_data",
          "data": {
            "text/html": [
              "<div>\n",
              "<style scoped>\n",
              "    .dataframe tbody tr th:only-of-type {\n",
              "        vertical-align: middle;\n",
              "    }\n",
              "\n",
              "    .dataframe tbody tr th {\n",
              "        vertical-align: top;\n",
              "    }\n",
              "\n",
              "    .dataframe thead th {\n",
              "        text-align: right;\n",
              "    }\n",
              "</style>\n",
              "<table border=\"1\" class=\"dataframe\">\n",
              "  <thead>\n",
              "    <tr style=\"text-align: right;\">\n",
              "      <th></th>\n",
              "      <th>tweet_id</th>\n",
              "      <th>safe_text</th>\n",
              "    </tr>\n",
              "  </thead>\n",
              "  <tbody>\n",
              "    <tr>\n",
              "      <th>0</th>\n",
              "      <td>00BHHHP1</td>\n",
              "      <td>&lt;user&gt; &lt;user&gt; ... &amp;amp; 4 a vaccine given 2 he...</td>\n",
              "    </tr>\n",
              "    <tr>\n",
              "      <th>1</th>\n",
              "      <td>00UNMD0E</td>\n",
              "      <td>Students starting school without whooping coug...</td>\n",
              "    </tr>\n",
              "    <tr>\n",
              "      <th>2</th>\n",
              "      <td>01AXPTJF</td>\n",
              "      <td>I'm kinda over every ep of &lt;user&gt; being \"rippe...</td>\n",
              "    </tr>\n",
              "    <tr>\n",
              "      <th>3</th>\n",
              "      <td>01HOEQJW</td>\n",
              "      <td>How many innocent children die for lack of vac...</td>\n",
              "    </tr>\n",
              "    <tr>\n",
              "      <th>4</th>\n",
              "      <td>01JUKMAO</td>\n",
              "      <td>CDC eyeing bird flu vaccine for humans, though...</td>\n",
              "    </tr>\n",
              "  </tbody>\n",
              "</table>\n",
              "</div>"
            ],
            "text/plain": [
              "   tweet_id                                          safe_text\n",
              "0  00BHHHP1  <user> <user> ... &amp; 4 a vaccine given 2 he...\n",
              "1  00UNMD0E  Students starting school without whooping coug...\n",
              "2  01AXPTJF  I'm kinda over every ep of <user> being \"rippe...\n",
              "3  01HOEQJW  How many innocent children die for lack of vac...\n",
              "4  01JUKMAO  CDC eyeing bird flu vaccine for humans, though..."
            ]
          },
          "metadata": {
            "tags": []
          }
        }
      ]
    },
    {
      "cell_type": "code",
      "metadata": {
        "id": "HVsrWoYCrl51",
        "colab": {
          "base_uri": "https://localhost:8080/"
        },
        "outputId": "a059e69a-f711-4ddd-c0c6-6edce792557f"
      },
      "source": [
        "train.drop(train.loc[train['label']==0.666667].index, inplace=True)\n",
        "train['label'].value_counts()"
      ],
      "execution_count": 4,
      "outputs": [
        {
          "output_type": "execute_result",
          "data": {
            "text/plain": [
              " 0.000000    4908\n",
              " 1.000000    4053\n",
              "-1.000000    1038\n",
              " 0.666667       1\n",
              "Name: label, dtype: int64"
            ]
          },
          "metadata": {
            "tags": []
          },
          "execution_count": 4
        }
      ]
    },
    {
      "cell_type": "code",
      "metadata": {
        "id": "gc3IIE53tSwj",
        "colab": {
          "base_uri": "https://localhost:8080/",
          "height": 158
        },
        "outputId": "d73ea25c-3612-4f99-ba59-183c1085de65"
      },
      "source": [
        "display(train.isnull().sum())\n",
        "display(test.isnull().sum())"
      ],
      "execution_count": 5,
      "outputs": [
        {
          "output_type": "display_data",
          "data": {
            "text/plain": [
              "tweet_id     0\n",
              "safe_text    0\n",
              "label        1\n",
              "agreement    2\n",
              "dtype: int64"
            ]
          },
          "metadata": {
            "tags": []
          }
        },
        {
          "output_type": "display_data",
          "data": {
            "text/plain": [
              "tweet_id     0\n",
              "safe_text    1\n",
              "dtype: int64"
            ]
          },
          "metadata": {
            "tags": []
          }
        }
      ]
    },
    {
      "cell_type": "code",
      "metadata": {
        "id": "WxYDBbVj0ypF"
      },
      "source": [
        "train = train.dropna()\n",
        "test = test.dropna()"
      ],
      "execution_count": 6,
      "outputs": []
    },
    {
      "cell_type": "code",
      "metadata": {
        "id": "tcRSF0UV083y",
        "colab": {
          "base_uri": "https://localhost:8080/",
          "height": 158
        },
        "outputId": "03027e52-4b6f-4aab-fe31-52be4a822870"
      },
      "source": [
        "display(train.isnull().sum())\n",
        "display(test.isnull().sum())"
      ],
      "execution_count": 7,
      "outputs": [
        {
          "output_type": "display_data",
          "data": {
            "text/plain": [
              "tweet_id     0\n",
              "safe_text    0\n",
              "label        0\n",
              "agreement    0\n",
              "dtype: int64"
            ]
          },
          "metadata": {
            "tags": []
          }
        },
        {
          "output_type": "display_data",
          "data": {
            "text/plain": [
              "tweet_id     0\n",
              "safe_text    0\n",
              "dtype: int64"
            ]
          },
          "metadata": {
            "tags": []
          }
        }
      ]
    },
    {
      "cell_type": "code",
      "metadata": {
        "id": "7M2vJ17E4jOG"
      },
      "source": [
        "# Replace URLs with 'url web'\n",
        "pattern_url = r'http[s]?://(?:[A-Za-z]|[0-9]|[$-_@.&+]|[!*\\(\\),]|(?:%[0-9A-Fa-f][0-9A-Fa-f]))+'\n",
        "subs_url = r'url-web'\n",
        "\n",
        "train['safe_text'] = train['safe_text'].replace(to_replace = pattern_url, value = subs_url, regex = True)\n",
        "test['safe_text'] = test['safe_text'].replace(to_replace = pattern_url, value = subs_url, regex = True)"
      ],
      "execution_count": 8,
      "outputs": []
    },
    {
      "cell_type": "code",
      "metadata": {
        "id": "8wKJ8ozA-FM7"
      },
      "source": [
        "# Contractions\n",
        "\n",
        "def decontracted(phrase):\n",
        "    # specific\n",
        "    phrase = re.sub(r\"won\\'t\", \"will not\", phrase)\n",
        "    phrase = re.sub(r\"can\\'t\", \"can not\", phrase)\n",
        "\n",
        "    # general\n",
        "    phrase = re.sub(r\"n\\'t\", \" not\", phrase)\n",
        "    phrase = re.sub(r\"\\'re\", \" are\", phrase)\n",
        "    phrase = re.sub(r\"\\'s\", \" is\", phrase)\n",
        "    phrase = re.sub(r\"\\'d\", \" would\", phrase)\n",
        "    phrase = re.sub(r\"\\'ll\", \" will\", phrase)\n",
        "    phrase = re.sub(r\"\\'t\", \" not\", phrase)\n",
        "    phrase = re.sub(r\"\\'ve\", \" have\", phrase)\n",
        "    phrase = re.sub(r\"\\'m\", \" am\", phrase)\n",
        "    \n",
        "    return phrase\n",
        "\n",
        "train['safe_text'] = train['safe_text'].apply(decontracted)\n",
        "test['safe_text'] = test['safe_text'].apply(decontracted)"
      ],
      "execution_count": 9,
      "outputs": []
    },
    {
      "cell_type": "code",
      "metadata": {
        "id": "0ajs-MKqsvsF"
      },
      "source": [
        "# Remove punctutaion\n",
        "\n",
        "def remove_punctuation(safe_text):\n",
        "  punc_numbers = string.punctuation + '0123456789'\n",
        "  return ''.join([l for l in safe_text if l not in punc_numbers])\n",
        "  \n",
        "train['safe_text'] = train['safe_text'].apply(remove_punctuation)\n",
        "test['safe_text'] = test['safe_text'].apply(remove_punctuation)"
      ],
      "execution_count": 10,
      "outputs": []
    },
    {
      "cell_type": "code",
      "metadata": {
        "id": "kHHsj04PzC6e"
      },
      "source": [
        "#Lowercase\n",
        "train['safe_text'] = train['safe_text'].str.lower()\n",
        "test['safe_text'] = test['safe_text'].str.lower()"
      ],
      "execution_count": 11,
      "outputs": []
    },
    {
      "cell_type": "markdown",
      "metadata": {
        "id": "tIyulQhbGgPo"
      },
      "source": [
        "# Feature extraction"
      ]
    },
    {
      "cell_type": "code",
      "metadata": {
        "id": "oJqBTedUEBZw"
      },
      "source": [
        "#Tokenize\n",
        "tk = TreebankWordTokenizer()\n",
        "\n",
        "train['safe_text'] = train['safe_text'].apply(tk.tokenize)\n",
        "test['safe_text'] = test['safe_text'].apply(tk.tokenize)"
      ],
      "execution_count": 12,
      "outputs": []
    },
    {
      "cell_type": "code",
      "metadata": {
        "id": "pG2m-7jwMePQ"
      },
      "source": [
        "#Lemmatization\n",
        "\n",
        "lemmatizer = WordNetLemmatizer()\n",
        "\n",
        "def lemma(words, lemmatizer):\n",
        "    return [lemmatizer.lemmatize(word) for word in words]\n",
        "\n",
        "train['safe_text'] = train['safe_text'].apply(lemma, args=(lemmatizer, ))\n",
        "test['safe_text'] = test['safe_text'].apply(lemma, args=(lemmatizer, ))"
      ],
      "execution_count": 13,
      "outputs": []
    },
    {
      "cell_type": "code",
      "metadata": {
        "id": "bdLRkIpxCTwy"
      },
      "source": [
        "# Remove stop words\n",
        "all_stopwords = stopwords.words('english')\n",
        "all_stopwords.append(['user', 'url-web'])\n",
        "\n",
        "def remove_stop_words(tokens): \n",
        "  all_stopwords = stopwords.words('english')\n",
        "  new_sw =['user', 'url-web']\n",
        "  all_stopwords.append(new_sw)   \n",
        "  return [t for t in tokens if t not in all_stopwords]\n",
        "\n",
        "train['safe_text'] = train['safe_text'].apply(remove_stop_words)\n",
        "test['safe_text'] = test['safe_text'].apply(remove_stop_words)"
      ],
      "execution_count": 14,
      "outputs": []
    },
    {
      "cell_type": "code",
      "metadata": {
        "id": "2NlwNf9RTvLB"
      },
      "source": [
        "train['safe_text'] = train.safe_text.apply(lambda x: '    '.join(x))\n",
        "test['safe_text'] = test.safe_text.apply(lambda x: '    '.join(x))"
      ],
      "execution_count": 15,
      "outputs": []
    },
    {
      "cell_type": "code",
      "metadata": {
        "id": "uW5WK-hrQnuk"
      },
      "source": [
        "# Select X and y\n",
        "\n",
        "X = train['safe_text']\n",
        "y = train['label']\n",
        "X_test = test['safe_text']\n"
      ],
      "execution_count": 16,
      "outputs": []
    },
    {
      "cell_type": "code",
      "metadata": {
        "id": "RI9MsMyIrI0q"
      },
      "source": [
        "#Split data\n",
        "\n",
        "X_train, X_val, y_train, y_val = train_test_split(X, y, test_size=0.2, random_state = 42)"
      ],
      "execution_count": 17,
      "outputs": []
    },
    {
      "cell_type": "code",
      "metadata": {
        "id": "UqGTsrvlcV9U"
      },
      "source": [
        "#Vectoriser\n",
        "\n",
        "tf = TfidfVectorizer( max_df = 0.3, ngram_range = (1, 2),min_df = 3)\n",
        "\n",
        "X_train = list(X_train)\n",
        "X_val = list(X_val)\n",
        "X_test = list(X_test)\n",
        "\n",
        "X_train = tf.fit_transform(X_train)\n",
        "X_val = tf.transform(X_val)\n",
        "X_test = tf.transform(X_test)"
      ],
      "execution_count": 18,
      "outputs": []
    },
    {
      "cell_type": "markdown",
      "metadata": {
        "id": "fc5CmJguY2S3"
      },
      "source": [
        "# Modelling"
      ]
    },
    {
      "cell_type": "code",
      "metadata": {
        "id": "9U6L66MXXEIm",
        "colab": {
          "base_uri": "https://localhost:8080/"
        },
        "outputId": "8764ed61-4951-4feb-c382-12ed8177e784"
      },
      "source": [
        "# Grid search\n",
        "\n",
        "lg_gs = LogisticRegression(max_iter= 1000)\n",
        "lg_gs_params = {'C':[0.1, 1, 10, 100]}\n",
        "lg_gs_s = GridSearchCV(lg_gs, param_grid = lg_gs_params,scoring = 'recall_weighted')\n",
        "lg_gs_s.fit(X_train, y_train)\n",
        "y_pred_lg_gs_s = lg_gs_s.predict(X_val)\n",
        "\n",
        "#Predict values based on new parameters\n",
        "y_pred_lg_gs_test = lg_gs_s.predict(X_test)\n",
        "\n",
        "# New Model Evaluation metrics \n",
        "print('Accuracy Score : ' + str(accuracy_score(y_val,y_pred_lg_gs_s)))\n",
        "print('Precision Score : ' + str(precision_score(y_val,y_pred_lg_gs_s, average = None)))\n",
        "print('Recall Score : ' + str(recall_score(y_val,y_pred_lg_gs_s, average = None)))\n",
        "print('F1 Score : ' + str(f1_score(y_val,y_pred_lg_gs_s, average = None)))"
      ],
      "execution_count": 19,
      "outputs": [
        {
          "output_type": "stream",
          "text": [
            "Accuracy Score : 0.734\n",
            "Precision Score : [0.69230769 0.76199616 0.7043673 ]\n",
            "Recall Score : [0.1875     0.84199364 0.76988984]\n",
            "F1 Score : [0.29508197 0.8        0.73567251]\n"
          ],
          "name": "stdout"
        }
      ]
    },
    {
      "cell_type": "markdown",
      "metadata": {
        "id": "ka0ejvZlG3W7"
      },
      "source": [
        "# Submission file"
      ]
    },
    {
      "cell_type": "code",
      "metadata": {
        "id": "gpDsazdskrB3",
        "colab": {
          "base_uri": "https://localhost:8080/",
          "height": 197
        },
        "outputId": "f3fd6c75-a93b-4657-ea43-23018abcb218"
      },
      "source": [
        "sub = pd.DataFrame({'tweet_id': test['tweet_id'], 'label': y_pred_lg_gs_test})\n",
        "sub.head()"
      ],
      "execution_count": null,
      "outputs": [
        {
          "output_type": "execute_result",
          "data": {
            "text/html": [
              "<div>\n",
              "<style scoped>\n",
              "    .dataframe tbody tr th:only-of-type {\n",
              "        vertical-align: middle;\n",
              "    }\n",
              "\n",
              "    .dataframe tbody tr th {\n",
              "        vertical-align: top;\n",
              "    }\n",
              "\n",
              "    .dataframe thead th {\n",
              "        text-align: right;\n",
              "    }\n",
              "</style>\n",
              "<table border=\"1\" class=\"dataframe\">\n",
              "  <thead>\n",
              "    <tr style=\"text-align: right;\">\n",
              "      <th></th>\n",
              "      <th>tweet_id</th>\n",
              "      <th>label</th>\n",
              "    </tr>\n",
              "  </thead>\n",
              "  <tbody>\n",
              "    <tr>\n",
              "      <th>0</th>\n",
              "      <td>00BHHHP1</td>\n",
              "      <td>1.0</td>\n",
              "    </tr>\n",
              "    <tr>\n",
              "      <th>1</th>\n",
              "      <td>00UNMD0E</td>\n",
              "      <td>1.0</td>\n",
              "    </tr>\n",
              "    <tr>\n",
              "      <th>2</th>\n",
              "      <td>01AXPTJF</td>\n",
              "      <td>0.0</td>\n",
              "    </tr>\n",
              "    <tr>\n",
              "      <th>3</th>\n",
              "      <td>01HOEQJW</td>\n",
              "      <td>1.0</td>\n",
              "    </tr>\n",
              "    <tr>\n",
              "      <th>4</th>\n",
              "      <td>01JUKMAO</td>\n",
              "      <td>0.0</td>\n",
              "    </tr>\n",
              "  </tbody>\n",
              "</table>\n",
              "</div>"
            ],
            "text/plain": [
              "   tweet_id  label\n",
              "0  00BHHHP1    1.0\n",
              "1  00UNMD0E    1.0\n",
              "2  01AXPTJF    0.0\n",
              "3  01HOEQJW    1.0\n",
              "4  01JUKMAO    0.0"
            ]
          },
          "metadata": {
            "tags": []
          },
          "execution_count": 23
        }
      ]
    },
    {
      "cell_type": "code",
      "metadata": {
        "id": "yM5gfaZUuIZX"
      },
      "source": [
        "sub.to_csv('Vaccine_Hackathon_Nyandala.csv', index = False)"
      ],
      "execution_count": null,
      "outputs": []
    }
  ]
}